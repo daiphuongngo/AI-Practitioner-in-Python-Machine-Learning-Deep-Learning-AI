{
  "nbformat": 4,
  "nbformat_minor": 0,
  "metadata": {
    "colab": {
      "name": "S14_MDP Planning.ipynb",
      "provenance": [],
      "collapsed_sections": []
    },
    "kernelspec": {
      "name": "python3",
      "display_name": "Python 3"
    },
    "accelerator": "GPU"
  },
  "cells": [
    {
      "cell_type": "markdown",
      "metadata": {
        "id": "MOLquPAGjape"
      },
      "source": [
        "# Excercise: Frozen Lake"
      ]
    },
    {
      "cell_type": "markdown",
      "metadata": {
        "id": "MDax0T5b0NMu"
      },
      "source": [
        "\n",
        "**Mô tả:** Game hồ băng, chia làm 16 ô vuông, mỗi ô vuông sẽ là có băng hoặc không băng. Nếu đi lọt vào ô không băng thì game over! Nhiệm vụ của bạn là di chuyển từ S đến G.\n",
        "\n",
        "![frozen-lake-description](https://i.imgur.com/jLhoSev.png)\n",
        "![frozen-lake-map](https://i.imgur.com/1WS7wFJ.png)\n",
        "\n",
        "\n",
        "**Q-values table**\n",
        "\n",
        "|State(cell)|Left|Down|Right|Up|\n",
        "|---|---|---|---|---|\n",
        "|00 | 0 | 0 | 0 | 0 |\n",
        "|01 | 0 | 0 | 0 | 0 |\n",
        "|...| 0 | 0 | 0 | 0 |\n",
        "|16 | 0 | 0 | 0 | 0 |\n"
      ]
    },
    {
      "cell_type": "code",
      "metadata": {
        "id": "a2oN7VGE4t2-"
      },
      "source": [
        "import numpy as np\n",
        "np.random.seed(1612)\n",
        "import pandas as pd"
      ],
      "execution_count": null,
      "outputs": []
    },
    {
      "cell_type": "markdown",
      "metadata": {
        "id": "yKTTscVTmE1R"
      },
      "source": [
        "## Deterministic Environment"
      ]
    },
    {
      "cell_type": "markdown",
      "metadata": {
        "id": "Vnufwu2skYqZ"
      },
      "source": [
        "Helper function"
      ]
    },
    {
      "cell_type": "code",
      "metadata": {
        "id": "IVYBKluIkXsk"
      },
      "source": [
        "def shortest_path(start,end, Q, actions,max_col):\n",
        "     path = [start]\n",
        "     path_actions = []\n",
        "     cur = start\n",
        "     while cur != end:\n",
        "          act = np.argmax(Q[cur])\n",
        "          path_actions.append(actions[act])\n",
        "          # turn left so the index -1\n",
        "          if act == 0:        \n",
        "               cur -=  1\n",
        "          # turn down so the index +max_col\n",
        "          elif act == 1:        \n",
        "               cur +=  max_col\n",
        "          # turn right so the index +1\n",
        "          elif act == 2:         \n",
        "               cur +=  1\n",
        "          #turn up so the index -max_col\n",
        "          else:                    \n",
        "               cur -= max_col\n",
        "          path.append(cur)\n",
        "     return path, path_actions"
      ],
      "execution_count": null,
      "outputs": []
    },
    {
      "cell_type": "code",
      "metadata": {
        "id": "Elzhqq5c8fTw"
      },
      "source": [
        "def get_next_state(cur_state, act, max_col):\n",
        "  # TODO check condition at the edges\n",
        "  # TODO turn left: index - 1: 0\n",
        "  # TODO turn down: index +  max_col: 1\n",
        "  # TODO turn right: index + 1: 2\n",
        "  # TODO turn up: index - max_col: 3\n",
        "    if cur_state % max_col == 0 and act == 0:\n",
        "        next_state = cur_state\n",
        "    elif cur_state % max_col == max_col - 1 and act == 2:\n",
        "        next_state = cur_state\n",
        "    elif cur_state < max_col and act == 3:\n",
        "        next_state = cur_state\n",
        "    elif cur_state > max_col*max_col-1-max_col and act == 1:\n",
        "        next_state = cur_state\n",
        "    else:\n",
        "        if act == 0:\n",
        "            next_state = cur_state - 1\n",
        "        elif act == 1:\n",
        "            next_state = cur_state + max_col\n",
        "        elif act == 2:\n",
        "            next_state = cur_state + 1\n",
        "        elif act == 3:\n",
        "            next_state = cur_state - max_col\n",
        "      \n",
        "    return next_state"
      ],
      "execution_count": null,
      "outputs": []
    },
    {
      "cell_type": "code",
      "metadata": {
        "id": "ZZwLvkNq7l65"
      },
      "source": [
        "def planning(iter, Q, gamma, terminal): # đi kiếm q* \n",
        "  for i in range(iter): # iter số vòng lặp để mỗi ô đều có reward\n",
        "    for state in range(Q.shape[0]): # Q.shape = (16, 4) --> 16 states\n",
        "      if state in terminal:\n",
        "        continue\n",
        "      for act in range(Q.shape[1]): # --> 4 actions --> or range(iter)\n",
        "        reward = 0\n",
        "        next_state = get_next_state(state, act, max_col=4) # max_col = 4\n",
        "        if next_state == 15:\n",
        "          reward = 1\n",
        "        Q[state, act] = reward + gamma * np.max(Q[next_state]) # gamma = bn tuỳ mình, max(Q[next_state]) ko có act, nghĩa là 4 LRUD cái nào cho Q lớn nhất\n",
        "  return Q"
      ],
      "execution_count": null,
      "outputs": []
    },
    {
      "cell_type": "code",
      "metadata": {
        "id": "upo2tXwGCXot",
        "colab": {
          "base_uri": "https://localhost:8080/",
          "height": 638
        },
        "outputId": "4839735c-2d3f-4a61-ca52-47ca6ef35966"
      },
      "source": [
        "# init Q matrix (applied Bellman) to calculate policy\n",
        "Q = np.zeros((16,4))\n",
        "# init list of actions\n",
        "actions = [\"left\", \"down\", \"right\", \"up\"] \n",
        "# init terminal state (holes and goal)\n",
        "terminal = [5, 7, 11, 12, 15] # terminal = holes\n",
        "# call the planning() function\n",
        "Q = planning(1000, Q, 0.8, terminal)\n",
        "print(Q)\n",
        "print(Q.shape)\n",
        "# visualise Q table\n",
        "# Q[0,2] += 0,00001 # nếu muốn bắt đầu từ right thay vì down \n",
        "dict_Q = {actions[0]: Q.T[0], actions[1]: Q.T[1], actions[2]: Q.T[2], actions[3]: Q.T[3]}  # visualize Q to easily understand\n",
        "print(pd.DataFrame(dict_Q),\"\\n\")\n",
        "# Find the shortest path to get the target\n",
        "path, path_actions = shortest_path(0,15, Q, actions, max_col=4)\n",
        "print(\"The path to go to the end:\", path)\n",
        "print(\"The way to go to the end:\", path_actions)"
      ],
      "execution_count": null,
      "outputs": [
        {
          "output_type": "stream",
          "text": [
            "[[0.262144 0.32768  0.32768  0.262144]\n",
            " [0.262144 0.       0.4096   0.32768 ]\n",
            " [0.32768  0.512    0.32768  0.4096  ]\n",
            " [0.4096   0.       0.32768  0.32768 ]\n",
            " [0.32768  0.4096   0.       0.262144]\n",
            " [0.       0.       0.       0.      ]\n",
            " [0.       0.64     0.       0.4096  ]\n",
            " [0.       0.       0.       0.      ]\n",
            " [0.4096   0.       0.512    0.32768 ]\n",
            " [0.4096   0.64     0.64     0.      ]\n",
            " [0.512    0.8      0.       0.512   ]\n",
            " [0.       0.       0.       0.      ]\n",
            " [0.       0.       0.       0.      ]\n",
            " [0.       0.64     0.8      0.512   ]\n",
            " [0.64     0.8      1.       0.64    ]\n",
            " [0.       0.       0.       0.      ]]\n",
            "(16, 4)\n",
            "        left     down    right        up\n",
            "0   0.262144  0.32768  0.32768  0.262144\n",
            "1   0.262144  0.00000  0.40960  0.327680\n",
            "2   0.327680  0.51200  0.32768  0.409600\n",
            "3   0.409600  0.00000  0.32768  0.327680\n",
            "4   0.327680  0.40960  0.00000  0.262144\n",
            "5   0.000000  0.00000  0.00000  0.000000\n",
            "6   0.000000  0.64000  0.00000  0.409600\n",
            "7   0.000000  0.00000  0.00000  0.000000\n",
            "8   0.409600  0.00000  0.51200  0.327680\n",
            "9   0.409600  0.64000  0.64000  0.000000\n",
            "10  0.512000  0.80000  0.00000  0.512000\n",
            "11  0.000000  0.00000  0.00000  0.000000\n",
            "12  0.000000  0.00000  0.00000  0.000000\n",
            "13  0.000000  0.64000  0.80000  0.512000\n",
            "14  0.640000  0.80000  1.00000  0.640000\n",
            "15  0.000000  0.00000  0.00000  0.000000 \n",
            "\n",
            "The path to go to the end: [0, 4, 8, 9, 13, 14, 15]\n",
            "The way to go to the end: ['down', 'down', 'right', 'down', 'right', 'right']\n"
          ],
          "name": "stdout"
        }
      ]
    },
    {
      "cell_type": "code",
      "metadata": {
        "id": "vpZ8YBbXpkZM"
      },
      "source": [
        ""
      ],
      "execution_count": null,
      "outputs": []
    }
  ]
}